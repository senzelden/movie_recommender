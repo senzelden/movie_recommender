{
 "cells": [
  {
   "cell_type": "code",
   "execution_count": 1,
   "metadata": {},
   "outputs": [],
   "source": [
    "import numpy as np\n",
    "import pandas as pd\n",
    "import plotly.express as px"
   ]
  },
  {
   "cell_type": "code",
   "execution_count": 3,
   "metadata": {},
   "outputs": [],
   "source": [
    "links = pd.read_csv('../data/ml-latest-small/links.csv')\n",
    "movies = pd.read_csv('../data/ml-latest-small/movies.csv')\n",
    "ratings = pd.read_csv('../data/ml-latest-small/ratings.csv')\n",
    "tags = pd.read_csv('../data/ml-latest-small/tags.csv')"
   ]
  },
  {
   "cell_type": "markdown",
   "metadata": {},
   "source": [
    "### Genres"
   ]
  },
  {
   "cell_type": "code",
   "execution_count": 4,
   "metadata": {},
   "outputs": [],
   "source": [
    "# 19 Genres as listed in readme.txt\n",
    "unique_genres = [\n",
    "    \"Action\",\n",
    "    \"Adventure\",\n",
    "    \"Animation\",\n",
    "    \"Children's\",\n",
    "    \"Comedy\",\n",
    "    \"Crime\",\n",
    "    \"Documentary\",\n",
    "    \"Drama\",\n",
    "    \"Fantasy\",\n",
    "    \"Film-Noir\",\n",
    "    \"Horror\",\n",
    "    \"Musical\",\n",
    "    \"Mystery\",\n",
    "    \"Romance\",\n",
    "    \"Sci-Fi\",\n",
    "    \"Thriller\",\n",
    "    \"War\",\n",
    "    \"Western\",\n",
    "    \"(no genres listed)\",\n",
    "]"
   ]
  },
  {
   "cell_type": "code",
   "execution_count": 4,
   "metadata": {},
   "outputs": [],
   "source": [
    "genre_counts = {}\n",
    "\n",
    "for genre in unique_genres:\n",
    "    genre_counts[genre] = 0\n",
    "    for movie in movies.values:\n",
    "        if genre in movie[2].split():\n",
    "            genre_counts[genre] += 1"
   ]
  },
  {
   "cell_type": "code",
   "execution_count": 10,
   "metadata": {},
   "outputs": [],
   "source": [
    "df_gc = pd.Series(genre_counts)\n",
    "df_gc.sort_values(ascending=False, inplace=True)"
   ]
  },
  {
   "cell_type": "code",
   "execution_count": 11,
   "metadata": {},
   "outputs": [
    {
     "data": {
      "application/vnd.plotly.v1+json": {
       "config": {
        "plotlyServerURL": "https://plot.ly"
       },
       "data": [
        {
         "alignmentgroup": "True",
         "hovertemplate": "index=%{x}<br>y=%{y}<extra></extra>",
         "legendgroup": "",
         "marker": {
          "color": "#636efa"
         },
         "name": "",
         "offsetgroup": "",
         "orientation": "v",
         "showlegend": false,
         "textposition": "auto",
         "type": "bar",
         "x": [
          "Drama",
          "Comedy",
          "Documentary",
          "Horror",
          "Thriller",
          "Action",
          "Sci-Fi",
          "Animation",
          "Western",
          "Romance",
          "Musical",
          "Crime",
          "Adventure",
          "War",
          "Fantasy",
          "Mystery",
          "Film-Noir",
          "(no genres listed)",
          "Children's"
         ],
         "xaxis": "x",
         "y": [
          1053,
          946,
          339,
          167,
          84,
          60,
          37,
          30,
          23,
          21,
          15,
          12,
          12,
          4,
          4,
          3,
          3,
          0,
          0
         ],
         "yaxis": "y"
        }
       ],
       "layout": {
        "barmode": "relative",
        "legend": {
         "tracegroupgap": 0
        },
        "margin": {
         "t": 60
        },
        "template": {
         "data": {
          "bar": [
           {
            "error_x": {
             "color": "#2a3f5f"
            },
            "error_y": {
             "color": "#2a3f5f"
            },
            "marker": {
             "line": {
              "color": "#E5ECF6",
              "width": 0.5
             }
            },
            "type": "bar"
           }
          ],
          "barpolar": [
           {
            "marker": {
             "line": {
              "color": "#E5ECF6",
              "width": 0.5
             }
            },
            "type": "barpolar"
           }
          ],
          "carpet": [
           {
            "aaxis": {
             "endlinecolor": "#2a3f5f",
             "gridcolor": "white",
             "linecolor": "white",
             "minorgridcolor": "white",
             "startlinecolor": "#2a3f5f"
            },
            "baxis": {
             "endlinecolor": "#2a3f5f",
             "gridcolor": "white",
             "linecolor": "white",
             "minorgridcolor": "white",
             "startlinecolor": "#2a3f5f"
            },
            "type": "carpet"
           }
          ],
          "choropleth": [
           {
            "colorbar": {
             "outlinewidth": 0,
             "ticks": ""
            },
            "type": "choropleth"
           }
          ],
          "contour": [
           {
            "colorbar": {
             "outlinewidth": 0,
             "ticks": ""
            },
            "colorscale": [
             [
              0,
              "#0d0887"
             ],
             [
              0.1111111111111111,
              "#46039f"
             ],
             [
              0.2222222222222222,
              "#7201a8"
             ],
             [
              0.3333333333333333,
              "#9c179e"
             ],
             [
              0.4444444444444444,
              "#bd3786"
             ],
             [
              0.5555555555555556,
              "#d8576b"
             ],
             [
              0.6666666666666666,
              "#ed7953"
             ],
             [
              0.7777777777777778,
              "#fb9f3a"
             ],
             [
              0.8888888888888888,
              "#fdca26"
             ],
             [
              1,
              "#f0f921"
             ]
            ],
            "type": "contour"
           }
          ],
          "contourcarpet": [
           {
            "colorbar": {
             "outlinewidth": 0,
             "ticks": ""
            },
            "type": "contourcarpet"
           }
          ],
          "heatmap": [
           {
            "colorbar": {
             "outlinewidth": 0,
             "ticks": ""
            },
            "colorscale": [
             [
              0,
              "#0d0887"
             ],
             [
              0.1111111111111111,
              "#46039f"
             ],
             [
              0.2222222222222222,
              "#7201a8"
             ],
             [
              0.3333333333333333,
              "#9c179e"
             ],
             [
              0.4444444444444444,
              "#bd3786"
             ],
             [
              0.5555555555555556,
              "#d8576b"
             ],
             [
              0.6666666666666666,
              "#ed7953"
             ],
             [
              0.7777777777777778,
              "#fb9f3a"
             ],
             [
              0.8888888888888888,
              "#fdca26"
             ],
             [
              1,
              "#f0f921"
             ]
            ],
            "type": "heatmap"
           }
          ],
          "heatmapgl": [
           {
            "colorbar": {
             "outlinewidth": 0,
             "ticks": ""
            },
            "colorscale": [
             [
              0,
              "#0d0887"
             ],
             [
              0.1111111111111111,
              "#46039f"
             ],
             [
              0.2222222222222222,
              "#7201a8"
             ],
             [
              0.3333333333333333,
              "#9c179e"
             ],
             [
              0.4444444444444444,
              "#bd3786"
             ],
             [
              0.5555555555555556,
              "#d8576b"
             ],
             [
              0.6666666666666666,
              "#ed7953"
             ],
             [
              0.7777777777777778,
              "#fb9f3a"
             ],
             [
              0.8888888888888888,
              "#fdca26"
             ],
             [
              1,
              "#f0f921"
             ]
            ],
            "type": "heatmapgl"
           }
          ],
          "histogram": [
           {
            "marker": {
             "colorbar": {
              "outlinewidth": 0,
              "ticks": ""
             }
            },
            "type": "histogram"
           }
          ],
          "histogram2d": [
           {
            "colorbar": {
             "outlinewidth": 0,
             "ticks": ""
            },
            "colorscale": [
             [
              0,
              "#0d0887"
             ],
             [
              0.1111111111111111,
              "#46039f"
             ],
             [
              0.2222222222222222,
              "#7201a8"
             ],
             [
              0.3333333333333333,
              "#9c179e"
             ],
             [
              0.4444444444444444,
              "#bd3786"
             ],
             [
              0.5555555555555556,
              "#d8576b"
             ],
             [
              0.6666666666666666,
              "#ed7953"
             ],
             [
              0.7777777777777778,
              "#fb9f3a"
             ],
             [
              0.8888888888888888,
              "#fdca26"
             ],
             [
              1,
              "#f0f921"
             ]
            ],
            "type": "histogram2d"
           }
          ],
          "histogram2dcontour": [
           {
            "colorbar": {
             "outlinewidth": 0,
             "ticks": ""
            },
            "colorscale": [
             [
              0,
              "#0d0887"
             ],
             [
              0.1111111111111111,
              "#46039f"
             ],
             [
              0.2222222222222222,
              "#7201a8"
             ],
             [
              0.3333333333333333,
              "#9c179e"
             ],
             [
              0.4444444444444444,
              "#bd3786"
             ],
             [
              0.5555555555555556,
              "#d8576b"
             ],
             [
              0.6666666666666666,
              "#ed7953"
             ],
             [
              0.7777777777777778,
              "#fb9f3a"
             ],
             [
              0.8888888888888888,
              "#fdca26"
             ],
             [
              1,
              "#f0f921"
             ]
            ],
            "type": "histogram2dcontour"
           }
          ],
          "mesh3d": [
           {
            "colorbar": {
             "outlinewidth": 0,
             "ticks": ""
            },
            "type": "mesh3d"
           }
          ],
          "parcoords": [
           {
            "line": {
             "colorbar": {
              "outlinewidth": 0,
              "ticks": ""
             }
            },
            "type": "parcoords"
           }
          ],
          "pie": [
           {
            "automargin": true,
            "type": "pie"
           }
          ],
          "scatter": [
           {
            "marker": {
             "colorbar": {
              "outlinewidth": 0,
              "ticks": ""
             }
            },
            "type": "scatter"
           }
          ],
          "scatter3d": [
           {
            "line": {
             "colorbar": {
              "outlinewidth": 0,
              "ticks": ""
             }
            },
            "marker": {
             "colorbar": {
              "outlinewidth": 0,
              "ticks": ""
             }
            },
            "type": "scatter3d"
           }
          ],
          "scattercarpet": [
           {
            "marker": {
             "colorbar": {
              "outlinewidth": 0,
              "ticks": ""
             }
            },
            "type": "scattercarpet"
           }
          ],
          "scattergeo": [
           {
            "marker": {
             "colorbar": {
              "outlinewidth": 0,
              "ticks": ""
             }
            },
            "type": "scattergeo"
           }
          ],
          "scattergl": [
           {
            "marker": {
             "colorbar": {
              "outlinewidth": 0,
              "ticks": ""
             }
            },
            "type": "scattergl"
           }
          ],
          "scattermapbox": [
           {
            "marker": {
             "colorbar": {
              "outlinewidth": 0,
              "ticks": ""
             }
            },
            "type": "scattermapbox"
           }
          ],
          "scatterpolar": [
           {
            "marker": {
             "colorbar": {
              "outlinewidth": 0,
              "ticks": ""
             }
            },
            "type": "scatterpolar"
           }
          ],
          "scatterpolargl": [
           {
            "marker": {
             "colorbar": {
              "outlinewidth": 0,
              "ticks": ""
             }
            },
            "type": "scatterpolargl"
           }
          ],
          "scatterternary": [
           {
            "marker": {
             "colorbar": {
              "outlinewidth": 0,
              "ticks": ""
             }
            },
            "type": "scatterternary"
           }
          ],
          "surface": [
           {
            "colorbar": {
             "outlinewidth": 0,
             "ticks": ""
            },
            "colorscale": [
             [
              0,
              "#0d0887"
             ],
             [
              0.1111111111111111,
              "#46039f"
             ],
             [
              0.2222222222222222,
              "#7201a8"
             ],
             [
              0.3333333333333333,
              "#9c179e"
             ],
             [
              0.4444444444444444,
              "#bd3786"
             ],
             [
              0.5555555555555556,
              "#d8576b"
             ],
             [
              0.6666666666666666,
              "#ed7953"
             ],
             [
              0.7777777777777778,
              "#fb9f3a"
             ],
             [
              0.8888888888888888,
              "#fdca26"
             ],
             [
              1,
              "#f0f921"
             ]
            ],
            "type": "surface"
           }
          ],
          "table": [
           {
            "cells": {
             "fill": {
              "color": "#EBF0F8"
             },
             "line": {
              "color": "white"
             }
            },
            "header": {
             "fill": {
              "color": "#C8D4E3"
             },
             "line": {
              "color": "white"
             }
            },
            "type": "table"
           }
          ]
         },
         "layout": {
          "annotationdefaults": {
           "arrowcolor": "#2a3f5f",
           "arrowhead": 0,
           "arrowwidth": 1
          },
          "coloraxis": {
           "colorbar": {
            "outlinewidth": 0,
            "ticks": ""
           }
          },
          "colorscale": {
           "diverging": [
            [
             0,
             "#8e0152"
            ],
            [
             0.1,
             "#c51b7d"
            ],
            [
             0.2,
             "#de77ae"
            ],
            [
             0.3,
             "#f1b6da"
            ],
            [
             0.4,
             "#fde0ef"
            ],
            [
             0.5,
             "#f7f7f7"
            ],
            [
             0.6,
             "#e6f5d0"
            ],
            [
             0.7,
             "#b8e186"
            ],
            [
             0.8,
             "#7fbc41"
            ],
            [
             0.9,
             "#4d9221"
            ],
            [
             1,
             "#276419"
            ]
           ],
           "sequential": [
            [
             0,
             "#0d0887"
            ],
            [
             0.1111111111111111,
             "#46039f"
            ],
            [
             0.2222222222222222,
             "#7201a8"
            ],
            [
             0.3333333333333333,
             "#9c179e"
            ],
            [
             0.4444444444444444,
             "#bd3786"
            ],
            [
             0.5555555555555556,
             "#d8576b"
            ],
            [
             0.6666666666666666,
             "#ed7953"
            ],
            [
             0.7777777777777778,
             "#fb9f3a"
            ],
            [
             0.8888888888888888,
             "#fdca26"
            ],
            [
             1,
             "#f0f921"
            ]
           ],
           "sequentialminus": [
            [
             0,
             "#0d0887"
            ],
            [
             0.1111111111111111,
             "#46039f"
            ],
            [
             0.2222222222222222,
             "#7201a8"
            ],
            [
             0.3333333333333333,
             "#9c179e"
            ],
            [
             0.4444444444444444,
             "#bd3786"
            ],
            [
             0.5555555555555556,
             "#d8576b"
            ],
            [
             0.6666666666666666,
             "#ed7953"
            ],
            [
             0.7777777777777778,
             "#fb9f3a"
            ],
            [
             0.8888888888888888,
             "#fdca26"
            ],
            [
             1,
             "#f0f921"
            ]
           ]
          },
          "colorway": [
           "#636efa",
           "#EF553B",
           "#00cc96",
           "#ab63fa",
           "#FFA15A",
           "#19d3f3",
           "#FF6692",
           "#B6E880",
           "#FF97FF",
           "#FECB52"
          ],
          "font": {
           "color": "#2a3f5f"
          },
          "geo": {
           "bgcolor": "white",
           "lakecolor": "white",
           "landcolor": "#E5ECF6",
           "showlakes": true,
           "showland": true,
           "subunitcolor": "white"
          },
          "hoverlabel": {
           "align": "left"
          },
          "hovermode": "closest",
          "mapbox": {
           "style": "light"
          },
          "paper_bgcolor": "white",
          "plot_bgcolor": "#E5ECF6",
          "polar": {
           "angularaxis": {
            "gridcolor": "white",
            "linecolor": "white",
            "ticks": ""
           },
           "bgcolor": "#E5ECF6",
           "radialaxis": {
            "gridcolor": "white",
            "linecolor": "white",
            "ticks": ""
           }
          },
          "scene": {
           "xaxis": {
            "backgroundcolor": "#E5ECF6",
            "gridcolor": "white",
            "gridwidth": 2,
            "linecolor": "white",
            "showbackground": true,
            "ticks": "",
            "zerolinecolor": "white"
           },
           "yaxis": {
            "backgroundcolor": "#E5ECF6",
            "gridcolor": "white",
            "gridwidth": 2,
            "linecolor": "white",
            "showbackground": true,
            "ticks": "",
            "zerolinecolor": "white"
           },
           "zaxis": {
            "backgroundcolor": "#E5ECF6",
            "gridcolor": "white",
            "gridwidth": 2,
            "linecolor": "white",
            "showbackground": true,
            "ticks": "",
            "zerolinecolor": "white"
           }
          },
          "shapedefaults": {
           "line": {
            "color": "#2a3f5f"
           }
          },
          "ternary": {
           "aaxis": {
            "gridcolor": "white",
            "linecolor": "white",
            "ticks": ""
           },
           "baxis": {
            "gridcolor": "white",
            "linecolor": "white",
            "ticks": ""
           },
           "bgcolor": "#E5ECF6",
           "caxis": {
            "gridcolor": "white",
            "linecolor": "white",
            "ticks": ""
           }
          },
          "title": {
           "x": 0.05
          },
          "xaxis": {
           "automargin": true,
           "gridcolor": "white",
           "linecolor": "white",
           "ticks": "",
           "title": {
            "standoff": 15
           },
           "zerolinecolor": "white",
           "zerolinewidth": 2
          },
          "yaxis": {
           "automargin": true,
           "gridcolor": "white",
           "linecolor": "white",
           "ticks": "",
           "title": {
            "standoff": 15
           },
           "zerolinecolor": "white",
           "zerolinewidth": 2
          }
         }
        },
        "xaxis": {
         "anchor": "y",
         "domain": [
          0,
          1
         ],
         "title": {
          "text": "index"
         }
        },
        "yaxis": {
         "anchor": "x",
         "domain": [
          0,
          1
         ],
         "title": {
          "text": "y"
         }
        }
       }
      },
      "text/html": [
       "<div>\n",
       "        \n",
       "        \n",
       "            <div id=\"24b24271-2564-4734-be1c-51000f1cc25f\" class=\"plotly-graph-div\" style=\"height:525px; width:100%;\"></div>\n",
       "            <script type=\"text/javascript\">\n",
       "                require([\"plotly\"], function(Plotly) {\n",
       "                    window.PLOTLYENV=window.PLOTLYENV || {};\n",
       "                    \n",
       "                if (document.getElementById(\"24b24271-2564-4734-be1c-51000f1cc25f\")) {\n",
       "                    Plotly.newPlot(\n",
       "                        '24b24271-2564-4734-be1c-51000f1cc25f',\n",
       "                        [{\"alignmentgroup\": \"True\", \"hovertemplate\": \"index=%{x}<br>y=%{y}<extra></extra>\", \"legendgroup\": \"\", \"marker\": {\"color\": \"#636efa\"}, \"name\": \"\", \"offsetgroup\": \"\", \"orientation\": \"v\", \"showlegend\": false, \"textposition\": \"auto\", \"type\": \"bar\", \"x\": [\"Drama\", \"Comedy\", \"Documentary\", \"Horror\", \"Thriller\", \"Action\", \"Sci-Fi\", \"Animation\", \"Western\", \"Romance\", \"Musical\", \"Crime\", \"Adventure\", \"War\", \"Fantasy\", \"Mystery\", \"Film-Noir\", \"(no genres listed)\", \"Children's\"], \"xaxis\": \"x\", \"y\": [1053, 946, 339, 167, 84, 60, 37, 30, 23, 21, 15, 12, 12, 4, 4, 3, 3, 0, 0], \"yaxis\": \"y\"}],\n",
       "                        {\"barmode\": \"relative\", \"legend\": {\"tracegroupgap\": 0}, \"margin\": {\"t\": 60}, \"template\": {\"data\": {\"bar\": [{\"error_x\": {\"color\": \"#2a3f5f\"}, \"error_y\": {\"color\": \"#2a3f5f\"}, \"marker\": {\"line\": {\"color\": \"#E5ECF6\", \"width\": 0.5}}, \"type\": \"bar\"}], \"barpolar\": [{\"marker\": {\"line\": {\"color\": \"#E5ECF6\", \"width\": 0.5}}, \"type\": \"barpolar\"}], \"carpet\": [{\"aaxis\": {\"endlinecolor\": \"#2a3f5f\", \"gridcolor\": \"white\", \"linecolor\": \"white\", \"minorgridcolor\": \"white\", \"startlinecolor\": \"#2a3f5f\"}, \"baxis\": {\"endlinecolor\": \"#2a3f5f\", \"gridcolor\": \"white\", \"linecolor\": \"white\", \"minorgridcolor\": \"white\", \"startlinecolor\": \"#2a3f5f\"}, \"type\": \"carpet\"}], \"choropleth\": [{\"colorbar\": {\"outlinewidth\": 0, \"ticks\": \"\"}, \"type\": \"choropleth\"}], \"contour\": [{\"colorbar\": {\"outlinewidth\": 0, \"ticks\": \"\"}, \"colorscale\": [[0.0, \"#0d0887\"], [0.1111111111111111, \"#46039f\"], [0.2222222222222222, \"#7201a8\"], [0.3333333333333333, \"#9c179e\"], [0.4444444444444444, \"#bd3786\"], [0.5555555555555556, \"#d8576b\"], [0.6666666666666666, \"#ed7953\"], [0.7777777777777778, \"#fb9f3a\"], [0.8888888888888888, \"#fdca26\"], [1.0, \"#f0f921\"]], \"type\": \"contour\"}], \"contourcarpet\": [{\"colorbar\": {\"outlinewidth\": 0, \"ticks\": \"\"}, \"type\": \"contourcarpet\"}], \"heatmap\": [{\"colorbar\": {\"outlinewidth\": 0, \"ticks\": \"\"}, \"colorscale\": [[0.0, \"#0d0887\"], [0.1111111111111111, \"#46039f\"], [0.2222222222222222, \"#7201a8\"], [0.3333333333333333, \"#9c179e\"], [0.4444444444444444, \"#bd3786\"], [0.5555555555555556, \"#d8576b\"], [0.6666666666666666, \"#ed7953\"], [0.7777777777777778, \"#fb9f3a\"], [0.8888888888888888, \"#fdca26\"], [1.0, \"#f0f921\"]], \"type\": \"heatmap\"}], \"heatmapgl\": [{\"colorbar\": {\"outlinewidth\": 0, \"ticks\": \"\"}, \"colorscale\": [[0.0, \"#0d0887\"], [0.1111111111111111, \"#46039f\"], [0.2222222222222222, \"#7201a8\"], [0.3333333333333333, \"#9c179e\"], [0.4444444444444444, \"#bd3786\"], [0.5555555555555556, \"#d8576b\"], [0.6666666666666666, \"#ed7953\"], [0.7777777777777778, \"#fb9f3a\"], [0.8888888888888888, \"#fdca26\"], [1.0, \"#f0f921\"]], \"type\": \"heatmapgl\"}], \"histogram\": [{\"marker\": {\"colorbar\": {\"outlinewidth\": 0, \"ticks\": \"\"}}, \"type\": \"histogram\"}], \"histogram2d\": [{\"colorbar\": {\"outlinewidth\": 0, \"ticks\": \"\"}, \"colorscale\": [[0.0, \"#0d0887\"], [0.1111111111111111, \"#46039f\"], [0.2222222222222222, \"#7201a8\"], [0.3333333333333333, \"#9c179e\"], [0.4444444444444444, \"#bd3786\"], [0.5555555555555556, \"#d8576b\"], [0.6666666666666666, \"#ed7953\"], [0.7777777777777778, \"#fb9f3a\"], [0.8888888888888888, \"#fdca26\"], [1.0, \"#f0f921\"]], \"type\": \"histogram2d\"}], \"histogram2dcontour\": [{\"colorbar\": {\"outlinewidth\": 0, \"ticks\": \"\"}, \"colorscale\": [[0.0, \"#0d0887\"], [0.1111111111111111, \"#46039f\"], [0.2222222222222222, \"#7201a8\"], [0.3333333333333333, \"#9c179e\"], [0.4444444444444444, \"#bd3786\"], [0.5555555555555556, \"#d8576b\"], [0.6666666666666666, \"#ed7953\"], [0.7777777777777778, \"#fb9f3a\"], [0.8888888888888888, \"#fdca26\"], [1.0, \"#f0f921\"]], \"type\": \"histogram2dcontour\"}], \"mesh3d\": [{\"colorbar\": {\"outlinewidth\": 0, \"ticks\": \"\"}, \"type\": \"mesh3d\"}], \"parcoords\": [{\"line\": {\"colorbar\": {\"outlinewidth\": 0, \"ticks\": \"\"}}, \"type\": \"parcoords\"}], \"pie\": [{\"automargin\": true, \"type\": \"pie\"}], \"scatter\": [{\"marker\": {\"colorbar\": {\"outlinewidth\": 0, \"ticks\": \"\"}}, \"type\": \"scatter\"}], \"scatter3d\": [{\"line\": {\"colorbar\": {\"outlinewidth\": 0, \"ticks\": \"\"}}, \"marker\": {\"colorbar\": {\"outlinewidth\": 0, \"ticks\": \"\"}}, \"type\": \"scatter3d\"}], \"scattercarpet\": [{\"marker\": {\"colorbar\": {\"outlinewidth\": 0, \"ticks\": \"\"}}, \"type\": \"scattercarpet\"}], \"scattergeo\": [{\"marker\": {\"colorbar\": {\"outlinewidth\": 0, \"ticks\": \"\"}}, \"type\": \"scattergeo\"}], \"scattergl\": [{\"marker\": {\"colorbar\": {\"outlinewidth\": 0, \"ticks\": \"\"}}, \"type\": \"scattergl\"}], \"scattermapbox\": [{\"marker\": {\"colorbar\": {\"outlinewidth\": 0, \"ticks\": \"\"}}, \"type\": \"scattermapbox\"}], \"scatterpolar\": [{\"marker\": {\"colorbar\": {\"outlinewidth\": 0, \"ticks\": \"\"}}, \"type\": \"scatterpolar\"}], \"scatterpolargl\": [{\"marker\": {\"colorbar\": {\"outlinewidth\": 0, \"ticks\": \"\"}}, \"type\": \"scatterpolargl\"}], \"scatterternary\": [{\"marker\": {\"colorbar\": {\"outlinewidth\": 0, \"ticks\": \"\"}}, \"type\": \"scatterternary\"}], \"surface\": [{\"colorbar\": {\"outlinewidth\": 0, \"ticks\": \"\"}, \"colorscale\": [[0.0, \"#0d0887\"], [0.1111111111111111, \"#46039f\"], [0.2222222222222222, \"#7201a8\"], [0.3333333333333333, \"#9c179e\"], [0.4444444444444444, \"#bd3786\"], [0.5555555555555556, \"#d8576b\"], [0.6666666666666666, \"#ed7953\"], [0.7777777777777778, \"#fb9f3a\"], [0.8888888888888888, \"#fdca26\"], [1.0, \"#f0f921\"]], \"type\": \"surface\"}], \"table\": [{\"cells\": {\"fill\": {\"color\": \"#EBF0F8\"}, \"line\": {\"color\": \"white\"}}, \"header\": {\"fill\": {\"color\": \"#C8D4E3\"}, \"line\": {\"color\": \"white\"}}, \"type\": \"table\"}]}, \"layout\": {\"annotationdefaults\": {\"arrowcolor\": \"#2a3f5f\", \"arrowhead\": 0, \"arrowwidth\": 1}, \"coloraxis\": {\"colorbar\": {\"outlinewidth\": 0, \"ticks\": \"\"}}, \"colorscale\": {\"diverging\": [[0, \"#8e0152\"], [0.1, \"#c51b7d\"], [0.2, \"#de77ae\"], [0.3, \"#f1b6da\"], [0.4, \"#fde0ef\"], [0.5, \"#f7f7f7\"], [0.6, \"#e6f5d0\"], [0.7, \"#b8e186\"], [0.8, \"#7fbc41\"], [0.9, \"#4d9221\"], [1, \"#276419\"]], \"sequential\": [[0.0, \"#0d0887\"], [0.1111111111111111, \"#46039f\"], [0.2222222222222222, \"#7201a8\"], [0.3333333333333333, \"#9c179e\"], [0.4444444444444444, \"#bd3786\"], [0.5555555555555556, \"#d8576b\"], [0.6666666666666666, \"#ed7953\"], [0.7777777777777778, \"#fb9f3a\"], [0.8888888888888888, \"#fdca26\"], [1.0, \"#f0f921\"]], \"sequentialminus\": [[0.0, \"#0d0887\"], [0.1111111111111111, \"#46039f\"], [0.2222222222222222, \"#7201a8\"], [0.3333333333333333, \"#9c179e\"], [0.4444444444444444, \"#bd3786\"], [0.5555555555555556, \"#d8576b\"], [0.6666666666666666, \"#ed7953\"], [0.7777777777777778, \"#fb9f3a\"], [0.8888888888888888, \"#fdca26\"], [1.0, \"#f0f921\"]]}, \"colorway\": [\"#636efa\", \"#EF553B\", \"#00cc96\", \"#ab63fa\", \"#FFA15A\", \"#19d3f3\", \"#FF6692\", \"#B6E880\", \"#FF97FF\", \"#FECB52\"], \"font\": {\"color\": \"#2a3f5f\"}, \"geo\": {\"bgcolor\": \"white\", \"lakecolor\": \"white\", \"landcolor\": \"#E5ECF6\", \"showlakes\": true, \"showland\": true, \"subunitcolor\": \"white\"}, \"hoverlabel\": {\"align\": \"left\"}, \"hovermode\": \"closest\", \"mapbox\": {\"style\": \"light\"}, \"paper_bgcolor\": \"white\", \"plot_bgcolor\": \"#E5ECF6\", \"polar\": {\"angularaxis\": {\"gridcolor\": \"white\", \"linecolor\": \"white\", \"ticks\": \"\"}, \"bgcolor\": \"#E5ECF6\", \"radialaxis\": {\"gridcolor\": \"white\", \"linecolor\": \"white\", \"ticks\": \"\"}}, \"scene\": {\"xaxis\": {\"backgroundcolor\": \"#E5ECF6\", \"gridcolor\": \"white\", \"gridwidth\": 2, \"linecolor\": \"white\", \"showbackground\": true, \"ticks\": \"\", \"zerolinecolor\": \"white\"}, \"yaxis\": {\"backgroundcolor\": \"#E5ECF6\", \"gridcolor\": \"white\", \"gridwidth\": 2, \"linecolor\": \"white\", \"showbackground\": true, \"ticks\": \"\", \"zerolinecolor\": \"white\"}, \"zaxis\": {\"backgroundcolor\": \"#E5ECF6\", \"gridcolor\": \"white\", \"gridwidth\": 2, \"linecolor\": \"white\", \"showbackground\": true, \"ticks\": \"\", \"zerolinecolor\": \"white\"}}, \"shapedefaults\": {\"line\": {\"color\": \"#2a3f5f\"}}, \"ternary\": {\"aaxis\": {\"gridcolor\": \"white\", \"linecolor\": \"white\", \"ticks\": \"\"}, \"baxis\": {\"gridcolor\": \"white\", \"linecolor\": \"white\", \"ticks\": \"\"}, \"bgcolor\": \"#E5ECF6\", \"caxis\": {\"gridcolor\": \"white\", \"linecolor\": \"white\", \"ticks\": \"\"}}, \"title\": {\"x\": 0.05}, \"xaxis\": {\"automargin\": true, \"gridcolor\": \"white\", \"linecolor\": \"white\", \"ticks\": \"\", \"title\": {\"standoff\": 15}, \"zerolinecolor\": \"white\", \"zerolinewidth\": 2}, \"yaxis\": {\"automargin\": true, \"gridcolor\": \"white\", \"linecolor\": \"white\", \"ticks\": \"\", \"title\": {\"standoff\": 15}, \"zerolinecolor\": \"white\", \"zerolinewidth\": 2}}}, \"xaxis\": {\"anchor\": \"y\", \"domain\": [0.0, 1.0], \"title\": {\"text\": \"index\"}}, \"yaxis\": {\"anchor\": \"x\", \"domain\": [0.0, 1.0], \"title\": {\"text\": \"y\"}}},\n",
       "                        {\"responsive\": true}\n",
       "                    ).then(function(){\n",
       "                            \n",
       "var gd = document.getElementById('24b24271-2564-4734-be1c-51000f1cc25f');\n",
       "var x = new MutationObserver(function (mutations, observer) {{\n",
       "        var display = window.getComputedStyle(gd).display;\n",
       "        if (!display || display === 'none') {{\n",
       "            console.log([gd, 'removed!']);\n",
       "            Plotly.purge(gd);\n",
       "            observer.disconnect();\n",
       "        }}\n",
       "}});\n",
       "\n",
       "// Listen for the removal of the full notebook cells\n",
       "var notebookContainer = gd.closest('#notebook-container');\n",
       "if (notebookContainer) {{\n",
       "    x.observe(notebookContainer, {childList: true});\n",
       "}}\n",
       "\n",
       "// Listen for the clearing of the current output cell\n",
       "var outputEl = gd.closest('.output');\n",
       "if (outputEl) {{\n",
       "    x.observe(outputEl, {childList: true});\n",
       "}}\n",
       "\n",
       "                        })\n",
       "                };\n",
       "                });\n",
       "            </script>\n",
       "        </div>"
      ]
     },
     "metadata": {},
     "output_type": "display_data"
    }
   ],
   "source": [
    "px.bar(df_gc, x=df_gc.index, y=df_gc.values)"
   ]
  },
  {
   "cell_type": "code",
   "execution_count": 14,
   "metadata": {},
   "outputs": [],
   "source": [
    "movies_ratings = pd.merge(movies, ratings, 'outer', on='movieId')"
   ]
  },
  {
   "cell_type": "code",
   "execution_count": 32,
   "metadata": {},
   "outputs": [
    {
     "data": {
      "text/html": [
       "<div>\n",
       "<style scoped>\n",
       "    .dataframe tbody tr th:only-of-type {\n",
       "        vertical-align: middle;\n",
       "    }\n",
       "\n",
       "    .dataframe tbody tr th {\n",
       "        vertical-align: top;\n",
       "    }\n",
       "\n",
       "    .dataframe thead th {\n",
       "        text-align: right;\n",
       "    }\n",
       "</style>\n",
       "<table border=\"1\" class=\"dataframe\">\n",
       "  <thead>\n",
       "    <tr style=\"text-align: right;\">\n",
       "      <th></th>\n",
       "      <th></th>\n",
       "      <th></th>\n",
       "      <th>avg_rating</th>\n",
       "    </tr>\n",
       "    <tr>\n",
       "      <th>movieId</th>\n",
       "      <th>title</th>\n",
       "      <th>genres</th>\n",
       "      <th></th>\n",
       "    </tr>\n",
       "  </thead>\n",
       "  <tbody>\n",
       "    <tr>\n",
       "      <th>88448</th>\n",
       "      <th>Paper Birds (Pájaros de papel) (2010)</th>\n",
       "      <th>Comedy|Drama</th>\n",
       "      <td>5.0</td>\n",
       "    </tr>\n",
       "    <tr>\n",
       "      <th>100556</th>\n",
       "      <th>Act of Killing, The (2012)</th>\n",
       "      <th>Documentary</th>\n",
       "      <td>5.0</td>\n",
       "    </tr>\n",
       "    <tr>\n",
       "      <th>143031</th>\n",
       "      <th>Jump In! (2007)</th>\n",
       "      <th>Comedy|Drama|Romance</th>\n",
       "      <td>5.0</td>\n",
       "    </tr>\n",
       "    <tr>\n",
       "      <th>143511</th>\n",
       "      <th>Human (2015)</th>\n",
       "      <th>Documentary</th>\n",
       "      <td>5.0</td>\n",
       "    </tr>\n",
       "    <tr>\n",
       "      <th>143559</th>\n",
       "      <th>L.A. Slasher (2015)</th>\n",
       "      <th>Comedy|Crime|Fantasy</th>\n",
       "      <td>5.0</td>\n",
       "    </tr>\n",
       "    <tr>\n",
       "      <th>...</th>\n",
       "      <th>...</th>\n",
       "      <th>...</th>\n",
       "      <td>...</td>\n",
       "    </tr>\n",
       "    <tr>\n",
       "      <th>30892</th>\n",
       "      <th>In the Realms of the Unreal (2004)</th>\n",
       "      <th>Animation|Documentary</th>\n",
       "      <td>NaN</td>\n",
       "    </tr>\n",
       "    <tr>\n",
       "      <th>32160</th>\n",
       "      <th>Twentieth Century (1934)</th>\n",
       "      <th>Comedy</th>\n",
       "      <td>NaN</td>\n",
       "    </tr>\n",
       "    <tr>\n",
       "      <th>32371</th>\n",
       "      <th>Call Northside 777 (1948)</th>\n",
       "      <th>Crime|Drama|Film-Noir</th>\n",
       "      <td>NaN</td>\n",
       "    </tr>\n",
       "    <tr>\n",
       "      <th>34482</th>\n",
       "      <th>Browning Version, The (1951)</th>\n",
       "      <th>Drama</th>\n",
       "      <td>NaN</td>\n",
       "    </tr>\n",
       "    <tr>\n",
       "      <th>85565</th>\n",
       "      <th>Chalet Girl (2011)</th>\n",
       "      <th>Comedy|Romance</th>\n",
       "      <td>NaN</td>\n",
       "    </tr>\n",
       "  </tbody>\n",
       "</table>\n",
       "<p>9742 rows × 1 columns</p>\n",
       "</div>"
      ],
      "text/plain": [
       "                                                                     avg_rating\n",
       "movieId title                                 genres                           \n",
       "88448   Paper Birds (Pájaros de papel) (2010) Comedy|Drama                  5.0\n",
       "100556  Act of Killing, The (2012)            Documentary                   5.0\n",
       "143031  Jump In! (2007)                       Comedy|Drama|Romance          5.0\n",
       "143511  Human (2015)                          Documentary                   5.0\n",
       "143559  L.A. Slasher (2015)                   Comedy|Crime|Fantasy          5.0\n",
       "...                                                                         ...\n",
       "30892   In the Realms of the Unreal (2004)    Animation|Documentary         NaN\n",
       "32160   Twentieth Century (1934)              Comedy                        NaN\n",
       "32371   Call Northside 777 (1948)             Crime|Drama|Film-Noir         NaN\n",
       "34482   Browning Version, The (1951)          Drama                         NaN\n",
       "85565   Chalet Girl (2011)                    Comedy|Romance                NaN\n",
       "\n",
       "[9742 rows x 1 columns]"
      ]
     },
     "execution_count": 32,
     "metadata": {},
     "output_type": "execute_result"
    }
   ],
   "source": [
    "avg_rating = movies_ratings.groupby(['movieId', 'title', 'genres'])[['rating']].mean().sort_values(by='rating', ascending=False)\n",
    "avg_rating.rename(columns={'rating': 'avg_rating'}, inplace=True)\n",
    "avg_rating"
   ]
  },
  {
   "cell_type": "code",
   "execution_count": 33,
   "metadata": {},
   "outputs": [
    {
     "data": {
      "text/html": [
       "<div>\n",
       "<style scoped>\n",
       "    .dataframe tbody tr th:only-of-type {\n",
       "        vertical-align: middle;\n",
       "    }\n",
       "\n",
       "    .dataframe tbody tr th {\n",
       "        vertical-align: top;\n",
       "    }\n",
       "\n",
       "    .dataframe thead th {\n",
       "        text-align: right;\n",
       "    }\n",
       "</style>\n",
       "<table border=\"1\" class=\"dataframe\">\n",
       "  <thead>\n",
       "    <tr style=\"text-align: right;\">\n",
       "      <th></th>\n",
       "      <th></th>\n",
       "      <th></th>\n",
       "      <th>total_ratings</th>\n",
       "    </tr>\n",
       "    <tr>\n",
       "      <th>movieId</th>\n",
       "      <th>title</th>\n",
       "      <th>genres</th>\n",
       "      <th></th>\n",
       "    </tr>\n",
       "  </thead>\n",
       "  <tbody>\n",
       "    <tr>\n",
       "      <th>356</th>\n",
       "      <th>Forrest Gump (1994)</th>\n",
       "      <th>Comedy|Drama|Romance|War</th>\n",
       "      <td>329</td>\n",
       "    </tr>\n",
       "    <tr>\n",
       "      <th>318</th>\n",
       "      <th>Shawshank Redemption, The (1994)</th>\n",
       "      <th>Crime|Drama</th>\n",
       "      <td>317</td>\n",
       "    </tr>\n",
       "    <tr>\n",
       "      <th>296</th>\n",
       "      <th>Pulp Fiction (1994)</th>\n",
       "      <th>Comedy|Crime|Drama|Thriller</th>\n",
       "      <td>307</td>\n",
       "    </tr>\n",
       "    <tr>\n",
       "      <th>593</th>\n",
       "      <th>Silence of the Lambs, The (1991)</th>\n",
       "      <th>Crime|Horror|Thriller</th>\n",
       "      <td>279</td>\n",
       "    </tr>\n",
       "    <tr>\n",
       "      <th>2571</th>\n",
       "      <th>Matrix, The (1999)</th>\n",
       "      <th>Action|Sci-Fi|Thriller</th>\n",
       "      <td>278</td>\n",
       "    </tr>\n",
       "    <tr>\n",
       "      <th>...</th>\n",
       "      <th>...</th>\n",
       "      <th>...</th>\n",
       "      <td>...</td>\n",
       "    </tr>\n",
       "    <tr>\n",
       "      <th>1076</th>\n",
       "      <th>Innocents, The (1961)</th>\n",
       "      <th>Drama|Horror|Thriller</th>\n",
       "      <td>0</td>\n",
       "    </tr>\n",
       "    <tr>\n",
       "      <th>34482</th>\n",
       "      <th>Browning Version, The (1951)</th>\n",
       "      <th>Drama</th>\n",
       "      <td>0</td>\n",
       "    </tr>\n",
       "    <tr>\n",
       "      <th>25855</th>\n",
       "      <th>Roaring Twenties, The (1939)</th>\n",
       "      <th>Crime|Drama|Thriller</th>\n",
       "      <td>0</td>\n",
       "    </tr>\n",
       "    <tr>\n",
       "      <th>85565</th>\n",
       "      <th>Chalet Girl (2011)</th>\n",
       "      <th>Comedy|Romance</th>\n",
       "      <td>0</td>\n",
       "    </tr>\n",
       "    <tr>\n",
       "      <th>26085</th>\n",
       "      <th>Mutiny on the Bounty (1962)</th>\n",
       "      <th>Adventure|Drama|Romance</th>\n",
       "      <td>0</td>\n",
       "    </tr>\n",
       "  </tbody>\n",
       "</table>\n",
       "<p>9742 rows × 1 columns</p>\n",
       "</div>"
      ],
      "text/plain": [
       "                                                                      total_ratings\n",
       "movieId title                            genres                                    \n",
       "356     Forrest Gump (1994)              Comedy|Drama|Romance|War               329\n",
       "318     Shawshank Redemption, The (1994) Crime|Drama                            317\n",
       "296     Pulp Fiction (1994)              Comedy|Crime|Drama|Thriller            307\n",
       "593     Silence of the Lambs, The (1991) Crime|Horror|Thriller                  279\n",
       "2571    Matrix, The (1999)               Action|Sci-Fi|Thriller                 278\n",
       "...                                                                             ...\n",
       "1076    Innocents, The (1961)            Drama|Horror|Thriller                    0\n",
       "34482   Browning Version, The (1951)     Drama                                    0\n",
       "25855   Roaring Twenties, The (1939)     Crime|Drama|Thriller                     0\n",
       "85565   Chalet Girl (2011)               Comedy|Romance                           0\n",
       "26085   Mutiny on the Bounty (1962)      Adventure|Drama|Romance                  0\n",
       "\n",
       "[9742 rows x 1 columns]"
      ]
     },
     "execution_count": 33,
     "metadata": {},
     "output_type": "execute_result"
    }
   ],
   "source": [
    "total_ratings = movies_ratings.groupby(['movieId', 'title', 'genres'])[['rating']].count().sort_values(by='rating', ascending=False)\n",
    "total_ratings.rename(columns={'rating': 'total_ratings'}, inplace=True)\n",
    "total_ratings"
   ]
  },
  {
   "cell_type": "code",
   "execution_count": 34,
   "metadata": {},
   "outputs": [],
   "source": [
    "concat = pd.concat([avg_rating, total_ratings], axis=1)"
   ]
  },
  {
   "cell_type": "code",
   "execution_count": 42,
   "metadata": {},
   "outputs": [
    {
     "data": {
      "text/html": [
       "<div>\n",
       "<style scoped>\n",
       "    .dataframe tbody tr th:only-of-type {\n",
       "        vertical-align: middle;\n",
       "    }\n",
       "\n",
       "    .dataframe tbody tr th {\n",
       "        vertical-align: top;\n",
       "    }\n",
       "\n",
       "    .dataframe thead th {\n",
       "        text-align: right;\n",
       "    }\n",
       "</style>\n",
       "<table border=\"1\" class=\"dataframe\">\n",
       "  <thead>\n",
       "    <tr style=\"text-align: right;\">\n",
       "      <th></th>\n",
       "      <th></th>\n",
       "      <th></th>\n",
       "      <th>avg_rating</th>\n",
       "      <th>total_ratings</th>\n",
       "    </tr>\n",
       "    <tr>\n",
       "      <th>movieId</th>\n",
       "      <th>title</th>\n",
       "      <th>genres</th>\n",
       "      <th></th>\n",
       "      <th></th>\n",
       "    </tr>\n",
       "  </thead>\n",
       "  <tbody>\n",
       "    <tr>\n",
       "      <th>1041</th>\n",
       "      <th>Secrets &amp; Lies (1996)</th>\n",
       "      <th>Drama</th>\n",
       "      <td>4.590909</td>\n",
       "      <td>11</td>\n",
       "    </tr>\n",
       "    <tr>\n",
       "      <th>3451</th>\n",
       "      <th>Guess Who's Coming to Dinner (1967)</th>\n",
       "      <th>Drama</th>\n",
       "      <td>4.545455</td>\n",
       "      <td>11</td>\n",
       "    </tr>\n",
       "    <tr>\n",
       "      <th>1178</th>\n",
       "      <th>Paths of Glory (1957)</th>\n",
       "      <th>Drama|War</th>\n",
       "      <td>4.541667</td>\n",
       "      <td>12</td>\n",
       "    </tr>\n",
       "    <tr>\n",
       "      <th>1104</th>\n",
       "      <th>Streetcar Named Desire, A (1951)</th>\n",
       "      <th>Drama</th>\n",
       "      <td>4.475000</td>\n",
       "      <td>20</td>\n",
       "    </tr>\n",
       "    <tr>\n",
       "      <th>2360</th>\n",
       "      <th>Celebration, The (Festen) (1998)</th>\n",
       "      <th>Drama</th>\n",
       "      <td>4.458333</td>\n",
       "      <td>12</td>\n",
       "    </tr>\n",
       "    <tr>\n",
       "      <th>1217</th>\n",
       "      <th>Ran (1985)</th>\n",
       "      <th>Drama|War</th>\n",
       "      <td>4.433333</td>\n",
       "      <td>15</td>\n",
       "    </tr>\n",
       "    <tr>\n",
       "      <th>318</th>\n",
       "      <th>Shawshank Redemption, The (1994)</th>\n",
       "      <th>Crime|Drama</th>\n",
       "      <td>4.429022</td>\n",
       "      <td>317</td>\n",
       "    </tr>\n",
       "    <tr>\n",
       "      <th>951</th>\n",
       "      <th>His Girl Friday (1940)</th>\n",
       "      <th>Comedy|Romance</th>\n",
       "      <td>4.392857</td>\n",
       "      <td>14</td>\n",
       "    </tr>\n",
       "    <tr>\n",
       "      <th>1927</th>\n",
       "      <th>All Quiet on the Western Front (1930)</th>\n",
       "      <th>Action|Drama|War</th>\n",
       "      <td>4.350000</td>\n",
       "      <td>10</td>\n",
       "    </tr>\n",
       "    <tr>\n",
       "      <th>3468</th>\n",
       "      <th>Hustler, The (1961)</th>\n",
       "      <th>Drama</th>\n",
       "      <td>4.333333</td>\n",
       "      <td>18</td>\n",
       "    </tr>\n",
       "    <tr>\n",
       "      <th>922</th>\n",
       "      <th>Sunset Blvd. (a.k.a. Sunset Boulevard) (1950)</th>\n",
       "      <th>Drama|Film-Noir|Romance</th>\n",
       "      <td>4.333333</td>\n",
       "      <td>27</td>\n",
       "    </tr>\n",
       "    <tr>\n",
       "      <th>3435</th>\n",
       "      <th>Double Indemnity (1944)</th>\n",
       "      <th>Crime|Drama|Film-Noir</th>\n",
       "      <td>4.323529</td>\n",
       "      <td>17</td>\n",
       "    </tr>\n",
       "    <tr>\n",
       "      <th>905</th>\n",
       "      <th>It Happened One Night (1934)</th>\n",
       "      <th>Comedy|Romance</th>\n",
       "      <td>4.321429</td>\n",
       "      <td>14</td>\n",
       "    </tr>\n",
       "    <tr>\n",
       "      <th>898</th>\n",
       "      <th>Philadelphia Story, The (1940)</th>\n",
       "      <th>Comedy|Drama|Romance</th>\n",
       "      <td>4.310345</td>\n",
       "      <td>29</td>\n",
       "    </tr>\n",
       "    <tr>\n",
       "      <th>7156</th>\n",
       "      <th>Fog of War: Eleven Lessons from the Life of Robert S. McNamara, The (2003)</th>\n",
       "      <th>Documentary|War</th>\n",
       "      <td>4.307692</td>\n",
       "      <td>13</td>\n",
       "    </tr>\n",
       "    <tr>\n",
       "      <th>176</th>\n",
       "      <th>Living in Oblivion (1995)</th>\n",
       "      <th>Comedy</th>\n",
       "      <td>4.307692</td>\n",
       "      <td>13</td>\n",
       "    </tr>\n",
       "    <tr>\n",
       "      <th>1209</th>\n",
       "      <th>Once Upon a Time in the West (C'era una volta il West) (1968)</th>\n",
       "      <th>Action|Drama|Western</th>\n",
       "      <td>4.305556</td>\n",
       "      <td>18</td>\n",
       "    </tr>\n",
       "    <tr>\n",
       "      <th>92535</th>\n",
       "      <th>Louis C.K.: Live at the Beacon Theater (2011)</th>\n",
       "      <th>Comedy</th>\n",
       "      <td>4.300000</td>\n",
       "      <td>10</td>\n",
       "    </tr>\n",
       "    <tr>\n",
       "      <th>96829</th>\n",
       "      <th>Hunt, The (Jagten) (2012)</th>\n",
       "      <th>Drama</th>\n",
       "      <td>4.300000</td>\n",
       "      <td>10</td>\n",
       "    </tr>\n",
       "    <tr>\n",
       "      <th>1204</th>\n",
       "      <th>Lawrence of Arabia (1962)</th>\n",
       "      <th>Adventure|Drama|War</th>\n",
       "      <td>4.300000</td>\n",
       "      <td>45</td>\n",
       "    </tr>\n",
       "    <tr>\n",
       "      <th>475</th>\n",
       "      <th>In the Name of the Father (1993)</th>\n",
       "      <th>Drama</th>\n",
       "      <td>4.300000</td>\n",
       "      <td>25</td>\n",
       "    </tr>\n",
       "    <tr>\n",
       "      <th>55721</th>\n",
       "      <th>Elite Squad (Tropa de Elite) (2007)</th>\n",
       "      <th>Action|Crime|Drama|Thriller</th>\n",
       "      <td>4.300000</td>\n",
       "      <td>10</td>\n",
       "    </tr>\n",
       "    <tr>\n",
       "      <th>246</th>\n",
       "      <th>Hoop Dreams (1994)</th>\n",
       "      <th>Documentary</th>\n",
       "      <td>4.293103</td>\n",
       "      <td>29</td>\n",
       "    </tr>\n",
       "    <tr>\n",
       "      <th>80906</th>\n",
       "      <th>Inside Job (2010)</th>\n",
       "      <th>Documentary</th>\n",
       "      <td>4.291667</td>\n",
       "      <td>12</td>\n",
       "    </tr>\n",
       "    <tr>\n",
       "      <th>858</th>\n",
       "      <th>Godfather, The (1972)</th>\n",
       "      <th>Crime|Drama</th>\n",
       "      <td>4.289062</td>\n",
       "      <td>192</td>\n",
       "    </tr>\n",
       "    <tr>\n",
       "      <th>1235</th>\n",
       "      <th>Harold and Maude (1971)</th>\n",
       "      <th>Comedy|Drama|Romance</th>\n",
       "      <td>4.288462</td>\n",
       "      <td>26</td>\n",
       "    </tr>\n",
       "    <tr>\n",
       "      <th>168252</th>\n",
       "      <th>Logan (2017)</th>\n",
       "      <th>Action|Sci-Fi</th>\n",
       "      <td>4.280000</td>\n",
       "      <td>25</td>\n",
       "    </tr>\n",
       "    <tr>\n",
       "      <th>2959</th>\n",
       "      <th>Fight Club (1999)</th>\n",
       "      <th>Action|Crime|Drama|Thriller</th>\n",
       "      <td>4.272936</td>\n",
       "      <td>218</td>\n",
       "    </tr>\n",
       "    <tr>\n",
       "      <th>1276</th>\n",
       "      <th>Cool Hand Luke (1967)</th>\n",
       "      <th>Drama</th>\n",
       "      <td>4.271930</td>\n",
       "      <td>57</td>\n",
       "    </tr>\n",
       "    <tr>\n",
       "      <th>750</th>\n",
       "      <th>Dr. Strangelove or: How I Learned to Stop Worrying and Love the Bomb (1964)</th>\n",
       "      <th>Comedy|War</th>\n",
       "      <td>4.268041</td>\n",
       "      <td>97</td>\n",
       "    </tr>\n",
       "    <tr>\n",
       "      <th>1248</th>\n",
       "      <th>Touch of Evil (1958)</th>\n",
       "      <th>Crime|Film-Noir|Thriller</th>\n",
       "      <td>4.264706</td>\n",
       "      <td>17</td>\n",
       "    </tr>\n",
       "    <tr>\n",
       "      <th>904</th>\n",
       "      <th>Rear Window (1954)</th>\n",
       "      <th>Mystery|Thriller</th>\n",
       "      <td>4.261905</td>\n",
       "      <td>84</td>\n",
       "    </tr>\n",
       "    <tr>\n",
       "      <th>1221</th>\n",
       "      <th>Godfather: Part II, The (1974)</th>\n",
       "      <th>Crime|Drama</th>\n",
       "      <td>4.259690</td>\n",
       "      <td>129</td>\n",
       "    </tr>\n",
       "    <tr>\n",
       "      <th>48516</th>\n",
       "      <th>Departed, The (2006)</th>\n",
       "      <th>Crime|Drama|Thriller</th>\n",
       "      <td>4.252336</td>\n",
       "      <td>107</td>\n",
       "    </tr>\n",
       "    <tr>\n",
       "      <th>1719</th>\n",
       "      <th>Sweet Hereafter, The (1997)</th>\n",
       "      <th>Drama</th>\n",
       "      <td>4.250000</td>\n",
       "      <td>16</td>\n",
       "    </tr>\n",
       "    <tr>\n",
       "      <th>3429</th>\n",
       "      <th>Creature Comforts (1989)</th>\n",
       "      <th>Animation|Comedy</th>\n",
       "      <td>4.250000</td>\n",
       "      <td>12</td>\n",
       "    </tr>\n",
       "    <tr>\n",
       "      <th>1267</th>\n",
       "      <th>Manchurian Candidate, The (1962)</th>\n",
       "      <th>Crime|Thriller|War</th>\n",
       "      <td>4.250000</td>\n",
       "      <td>30</td>\n",
       "    </tr>\n",
       "    <tr>\n",
       "      <th>1213</th>\n",
       "      <th>Goodfellas (1990)</th>\n",
       "      <th>Crime|Drama</th>\n",
       "      <td>4.250000</td>\n",
       "      <td>126</td>\n",
       "    </tr>\n",
       "    <tr>\n",
       "      <th>8014</th>\n",
       "      <th>Spring, Summer, Fall, Winter... and Spring (Bom yeoreum gaeul gyeoul geurigo bom) (2003)</th>\n",
       "      <th>Drama</th>\n",
       "      <td>4.250000</td>\n",
       "      <td>10</td>\n",
       "    </tr>\n",
       "    <tr>\n",
       "      <th>3508</th>\n",
       "      <th>Outlaw Josey Wales, The (1976)</th>\n",
       "      <th>Action|Adventure|Drama|Thriller|Western</th>\n",
       "      <td>4.250000</td>\n",
       "      <td>18</td>\n",
       "    </tr>\n",
       "    <tr>\n",
       "      <th>116897</th>\n",
       "      <th>Wild Tales (2014)</th>\n",
       "      <th>Comedy|Drama|Thriller</th>\n",
       "      <td>4.250000</td>\n",
       "      <td>10</td>\n",
       "    </tr>\n",
       "    <tr>\n",
       "      <th>930</th>\n",
       "      <th>Notorious (1946)</th>\n",
       "      <th>Film-Noir|Romance|Thriller</th>\n",
       "      <td>4.250000</td>\n",
       "      <td>20</td>\n",
       "    </tr>\n",
       "    <tr>\n",
       "      <th>912</th>\n",
       "      <th>Casablanca (1942)</th>\n",
       "      <th>Drama|Romance</th>\n",
       "      <td>4.240000</td>\n",
       "      <td>100</td>\n",
       "    </tr>\n",
       "    <tr>\n",
       "      <th>58559</th>\n",
       "      <th>Dark Knight, The (2008)</th>\n",
       "      <th>Action|Crime|Drama|IMAX</th>\n",
       "      <td>4.238255</td>\n",
       "      <td>149</td>\n",
       "    </tr>\n",
       "    <tr>\n",
       "      <th>50</th>\n",
       "      <th>Usual Suspects, The (1995)</th>\n",
       "      <th>Crime|Mystery|Thriller</th>\n",
       "      <td>4.237745</td>\n",
       "      <td>204</td>\n",
       "    </tr>\n",
       "    <tr>\n",
       "      <th>1197</th>\n",
       "      <th>Princess Bride, The (1987)</th>\n",
       "      <th>Action|Adventure|Comedy|Fantasy|Romance</th>\n",
       "      <td>4.232394</td>\n",
       "      <td>142</td>\n",
       "    </tr>\n",
       "    <tr>\n",
       "      <th>260</th>\n",
       "      <th>Star Wars: Episode IV - A New Hope (1977)</th>\n",
       "      <th>Action|Adventure|Sci-Fi</th>\n",
       "      <td>4.231076</td>\n",
       "      <td>251</td>\n",
       "    </tr>\n",
       "    <tr>\n",
       "      <th>3030</th>\n",
       "      <th>Yojimbo (1961)</th>\n",
       "      <th>Action|Adventure</th>\n",
       "      <td>4.230769</td>\n",
       "      <td>13</td>\n",
       "    </tr>\n",
       "    <tr>\n",
       "      <th>926</th>\n",
       "      <th>All About Eve (1950)</th>\n",
       "      <th>Drama</th>\n",
       "      <td>4.229167</td>\n",
       "      <td>24</td>\n",
       "    </tr>\n",
       "    <tr>\n",
       "      <th>1212</th>\n",
       "      <th>Third Man, The (1949)</th>\n",
       "      <th>Film-Noir|Mystery|Thriller</th>\n",
       "      <td>4.229167</td>\n",
       "      <td>24</td>\n",
       "    </tr>\n",
       "  </tbody>\n",
       "</table>\n",
       "</div>"
      ],
      "text/plain": [
       "                                                                                                    avg_rating  \\\n",
       "movieId title                                              genres                                                \n",
       "1041    Secrets & Lies (1996)                              Drama                                      4.590909   \n",
       "3451    Guess Who's Coming to Dinner (1967)                Drama                                      4.545455   \n",
       "1178    Paths of Glory (1957)                              Drama|War                                  4.541667   \n",
       "1104    Streetcar Named Desire, A (1951)                   Drama                                      4.475000   \n",
       "2360    Celebration, The (Festen) (1998)                   Drama                                      4.458333   \n",
       "1217    Ran (1985)                                         Drama|War                                  4.433333   \n",
       "318     Shawshank Redemption, The (1994)                   Crime|Drama                                4.429022   \n",
       "951     His Girl Friday (1940)                             Comedy|Romance                             4.392857   \n",
       "1927    All Quiet on the Western Front (1930)              Action|Drama|War                           4.350000   \n",
       "3468    Hustler, The (1961)                                Drama                                      4.333333   \n",
       "922     Sunset Blvd. (a.k.a. Sunset Boulevard) (1950)      Drama|Film-Noir|Romance                    4.333333   \n",
       "3435    Double Indemnity (1944)                            Crime|Drama|Film-Noir                      4.323529   \n",
       "905     It Happened One Night (1934)                       Comedy|Romance                             4.321429   \n",
       "898     Philadelphia Story, The (1940)                     Comedy|Drama|Romance                       4.310345   \n",
       "7156    Fog of War: Eleven Lessons from the Life of Rob... Documentary|War                            4.307692   \n",
       "176     Living in Oblivion (1995)                          Comedy                                     4.307692   \n",
       "1209    Once Upon a Time in the West (C'era una volta i... Action|Drama|Western                       4.305556   \n",
       "92535   Louis C.K.: Live at the Beacon Theater (2011)      Comedy                                     4.300000   \n",
       "96829   Hunt, The (Jagten) (2012)                          Drama                                      4.300000   \n",
       "1204    Lawrence of Arabia (1962)                          Adventure|Drama|War                        4.300000   \n",
       "475     In the Name of the Father (1993)                   Drama                                      4.300000   \n",
       "55721   Elite Squad (Tropa de Elite) (2007)                Action|Crime|Drama|Thriller                4.300000   \n",
       "246     Hoop Dreams (1994)                                 Documentary                                4.293103   \n",
       "80906   Inside Job (2010)                                  Documentary                                4.291667   \n",
       "858     Godfather, The (1972)                              Crime|Drama                                4.289062   \n",
       "1235    Harold and Maude (1971)                            Comedy|Drama|Romance                       4.288462   \n",
       "168252  Logan (2017)                                       Action|Sci-Fi                              4.280000   \n",
       "2959    Fight Club (1999)                                  Action|Crime|Drama|Thriller                4.272936   \n",
       "1276    Cool Hand Luke (1967)                              Drama                                      4.271930   \n",
       "750     Dr. Strangelove or: How I Learned to Stop Worry... Comedy|War                                 4.268041   \n",
       "1248    Touch of Evil (1958)                               Crime|Film-Noir|Thriller                   4.264706   \n",
       "904     Rear Window (1954)                                 Mystery|Thriller                           4.261905   \n",
       "1221    Godfather: Part II, The (1974)                     Crime|Drama                                4.259690   \n",
       "48516   Departed, The (2006)                               Crime|Drama|Thriller                       4.252336   \n",
       "1719    Sweet Hereafter, The (1997)                        Drama                                      4.250000   \n",
       "3429    Creature Comforts (1989)                           Animation|Comedy                           4.250000   \n",
       "1267    Manchurian Candidate, The (1962)                   Crime|Thriller|War                         4.250000   \n",
       "1213    Goodfellas (1990)                                  Crime|Drama                                4.250000   \n",
       "8014    Spring, Summer, Fall, Winter... and Spring (Bom... Drama                                      4.250000   \n",
       "3508    Outlaw Josey Wales, The (1976)                     Action|Adventure|Drama|Thriller|Western    4.250000   \n",
       "116897  Wild Tales (2014)                                  Comedy|Drama|Thriller                      4.250000   \n",
       "930     Notorious (1946)                                   Film-Noir|Romance|Thriller                 4.250000   \n",
       "912     Casablanca (1942)                                  Drama|Romance                              4.240000   \n",
       "58559   Dark Knight, The (2008)                            Action|Crime|Drama|IMAX                    4.238255   \n",
       "50      Usual Suspects, The (1995)                         Crime|Mystery|Thriller                     4.237745   \n",
       "1197    Princess Bride, The (1987)                         Action|Adventure|Comedy|Fantasy|Romance    4.232394   \n",
       "260     Star Wars: Episode IV - A New Hope (1977)          Action|Adventure|Sci-Fi                    4.231076   \n",
       "3030    Yojimbo (1961)                                     Action|Adventure                           4.230769   \n",
       "926     All About Eve (1950)                               Drama                                      4.229167   \n",
       "1212    Third Man, The (1949)                              Film-Noir|Mystery|Thriller                 4.229167   \n",
       "\n",
       "                                                                                                    total_ratings  \n",
       "movieId title                                              genres                                                  \n",
       "1041    Secrets & Lies (1996)                              Drama                                               11  \n",
       "3451    Guess Who's Coming to Dinner (1967)                Drama                                               11  \n",
       "1178    Paths of Glory (1957)                              Drama|War                                           12  \n",
       "1104    Streetcar Named Desire, A (1951)                   Drama                                               20  \n",
       "2360    Celebration, The (Festen) (1998)                   Drama                                               12  \n",
       "1217    Ran (1985)                                         Drama|War                                           15  \n",
       "318     Shawshank Redemption, The (1994)                   Crime|Drama                                        317  \n",
       "951     His Girl Friday (1940)                             Comedy|Romance                                      14  \n",
       "1927    All Quiet on the Western Front (1930)              Action|Drama|War                                    10  \n",
       "3468    Hustler, The (1961)                                Drama                                               18  \n",
       "922     Sunset Blvd. (a.k.a. Sunset Boulevard) (1950)      Drama|Film-Noir|Romance                             27  \n",
       "3435    Double Indemnity (1944)                            Crime|Drama|Film-Noir                               17  \n",
       "905     It Happened One Night (1934)                       Comedy|Romance                                      14  \n",
       "898     Philadelphia Story, The (1940)                     Comedy|Drama|Romance                                29  \n",
       "7156    Fog of War: Eleven Lessons from the Life of Rob... Documentary|War                                     13  \n",
       "176     Living in Oblivion (1995)                          Comedy                                              13  \n",
       "1209    Once Upon a Time in the West (C'era una volta i... Action|Drama|Western                                18  \n",
       "92535   Louis C.K.: Live at the Beacon Theater (2011)      Comedy                                              10  \n",
       "96829   Hunt, The (Jagten) (2012)                          Drama                                               10  \n",
       "1204    Lawrence of Arabia (1962)                          Adventure|Drama|War                                 45  \n",
       "475     In the Name of the Father (1993)                   Drama                                               25  \n",
       "55721   Elite Squad (Tropa de Elite) (2007)                Action|Crime|Drama|Thriller                         10  \n",
       "246     Hoop Dreams (1994)                                 Documentary                                         29  \n",
       "80906   Inside Job (2010)                                  Documentary                                         12  \n",
       "858     Godfather, The (1972)                              Crime|Drama                                        192  \n",
       "1235    Harold and Maude (1971)                            Comedy|Drama|Romance                                26  \n",
       "168252  Logan (2017)                                       Action|Sci-Fi                                       25  \n",
       "2959    Fight Club (1999)                                  Action|Crime|Drama|Thriller                        218  \n",
       "1276    Cool Hand Luke (1967)                              Drama                                               57  \n",
       "750     Dr. Strangelove or: How I Learned to Stop Worry... Comedy|War                                          97  \n",
       "1248    Touch of Evil (1958)                               Crime|Film-Noir|Thriller                            17  \n",
       "904     Rear Window (1954)                                 Mystery|Thriller                                    84  \n",
       "1221    Godfather: Part II, The (1974)                     Crime|Drama                                        129  \n",
       "48516   Departed, The (2006)                               Crime|Drama|Thriller                               107  \n",
       "1719    Sweet Hereafter, The (1997)                        Drama                                               16  \n",
       "3429    Creature Comforts (1989)                           Animation|Comedy                                    12  \n",
       "1267    Manchurian Candidate, The (1962)                   Crime|Thriller|War                                  30  \n",
       "1213    Goodfellas (1990)                                  Crime|Drama                                        126  \n",
       "8014    Spring, Summer, Fall, Winter... and Spring (Bom... Drama                                               10  \n",
       "3508    Outlaw Josey Wales, The (1976)                     Action|Adventure|Drama|Thriller|Western             18  \n",
       "116897  Wild Tales (2014)                                  Comedy|Drama|Thriller                               10  \n",
       "930     Notorious (1946)                                   Film-Noir|Romance|Thriller                          20  \n",
       "912     Casablanca (1942)                                  Drama|Romance                                      100  \n",
       "58559   Dark Knight, The (2008)                            Action|Crime|Drama|IMAX                            149  \n",
       "50      Usual Suspects, The (1995)                         Crime|Mystery|Thriller                             204  \n",
       "1197    Princess Bride, The (1987)                         Action|Adventure|Comedy|Fantasy|Romance            142  \n",
       "260     Star Wars: Episode IV - A New Hope (1977)          Action|Adventure|Sci-Fi                            251  \n",
       "3030    Yojimbo (1961)                                     Action|Adventure                                    13  \n",
       "926     All About Eve (1950)                               Drama                                               24  \n",
       "1212    Third Man, The (1949)                              Film-Noir|Mystery|Thriller                          24  "
      ]
     },
     "execution_count": 42,
     "metadata": {},
     "output_type": "execute_result"
    }
   ],
   "source": [
    "top_rated = concat[concat.total_ratings >= 10].sort_values(by=['avg_rating'], ascending=False)\n",
    "top_rated.head(50)"
   ]
  },
  {
   "cell_type": "code",
   "execution_count": 70,
   "metadata": {},
   "outputs": [
    {
     "data": {
      "text/plain": [
       "Action                                  (9, Sudden Death (1995))\n",
       "Comedy                          (176, Living in Oblivion (1995))\n",
       "Documentary                            (246, Hoop Dreams (1994))\n",
       "Drama                              (1041, Secrets & Lies (1996))\n",
       "Fantasy        (135143, Fantastic Beasts and Where to Find Th...\n",
       "Horror                               (1258, Shining, The (1980))\n",
       "Musical                       (918, Meet Me in St. Louis (1944))\n",
       "Mystery        (8228, Maltese Falcon, The (a.k.a. Dangerous F...\n",
       "Romance                            (2340, Meet Joe Black (1998))\n",
       "Sci-Fi                                  (164179, Arrival (2016))\n",
       "Thriller                              (142488, Spotlight (2015))\n",
       "Western                       (2921, High Plains Drifter (1973))\n",
       "dtype: object"
      ]
     },
     "execution_count": 70,
     "metadata": {},
     "output_type": "execute_result"
    }
   ],
   "source": [
    "genre_top_rated = {}\n",
    "for genre in unique_genres:\n",
    "    for movie in top_rated.index:\n",
    "        if genre in movie[2].split():\n",
    "            genre_top_rated[genre] = (movie[0], movie[1])\n",
    "            break\n",
    "df_tp = pd.Series(genre_top_rated)\n",
    "df_tp"
   ]
  },
  {
   "cell_type": "markdown",
   "metadata": {},
   "source": [
    "To get down to 10 movies, we could drop 'Western' and 'Romance' since they are the least represented genres in this group"
   ]
  },
  {
   "cell_type": "code",
   "execution_count": null,
   "metadata": {},
   "outputs": [],
   "source": []
  }
 ],
 "metadata": {
  "kernelspec": {
   "display_name": "Python 3",
   "language": "python",
   "name": "python3"
  },
  "language_info": {
   "codemirror_mode": {
    "name": "ipython",
    "version": 3
   },
   "file_extension": ".py",
   "mimetype": "text/x-python",
   "name": "python",
   "nbconvert_exporter": "python",
   "pygments_lexer": "ipython3",
   "version": "3.8.3"
  }
 },
 "nbformat": 4,
 "nbformat_minor": 4
}
